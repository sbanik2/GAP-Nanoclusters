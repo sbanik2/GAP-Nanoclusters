{
 "cells": [
  {
   "cell_type": "code",
   "execution_count": 3,
   "id": "1449ef7f-501c-4632-b022-ac575e313c41",
   "metadata": {},
   "outputs": [
    {
     "name": "stdout",
     "output_type": "stream",
     "text": [
      "✅ Generated: Ag.tersoff and Ag.in\n"
     ]
    }
   ],
   "source": [
    "import json\n",
    "import os\n",
    "\n",
    "def generate_lammps_files(json_path):\n",
    "    # Load the JSON\n",
    "    with open(json_path, \"r\") as f:\n",
    "        data = json.load(f)\n",
    "\n",
    "    element = data[\"tersoff\"][\"element1\"]  # assuming element1 == element2 == element3\n",
    "\n",
    "    # Create tersoff file content\n",
    "    tersoff_header = f\"\"\"# Tersoff parameters\n",
    "\n",
    "# these entries are in LAMMPS \"metal\" units:\n",
    "#   A,B = eV; lambda1,lambda2,lambda3 = 1/Angstroms; R,D = Angstroms\n",
    "#   other quantities are unitless\n",
    "\n",
    "# format of a single entry (one or more lines):\n",
    "#   element 1, element 2, element 3, \n",
    "#   m, gamma, lambda3, c, d, costheta0, n, beta, \n",
    "#   lambda2, B, R, D, lambda1, A\n",
    "\n",
    "\"\"\"\n",
    "\n",
    "    tersoff_params = data[\"tersoff\"]\n",
    "    line1 = f\"{tersoff_params['element1']}  {tersoff_params['element2']}  {tersoff_params['element3']}  {tersoff_params['m']}  {tersoff_params['gamma']} {tersoff_params['lambda3']} {tersoff_params['c']} {tersoff_params['d']} {tersoff_params['h']} {tersoff_params['n']} {tersoff_params['beta']}\\n\"\n",
    "    line2 = f\"            {tersoff_params['lambda2']} {tersoff_params['B']} {tersoff_params['R']} {tersoff_params['D']} {tersoff_params['lambda1']} {tersoff_params['A']}\\n\"\n",
    "\n",
    "    tersoff_content = tersoff_header + line1 + line2\n",
    "\n",
    "    # Write tersoff file\n",
    "    tersoff_filename = f\"{element}.tersoff\"\n",
    "    with open(tersoff_filename, \"w\") as f:\n",
    "        f.write(tersoff_content)\n",
    "\n",
    "    # Create LAMMPS input snippet\n",
    "    scaling = data[\"scaling\"]\n",
    "    lammps_input = f\"\"\"# ----- System -----\n",
    "units metal\n",
    "boundary p p p\n",
    "box tilt large\n",
    "atom_style atomic\n",
    "read_data  your file here\n",
    "replicate 1 1 1\n",
    "variable T0 equal 300\n",
    "variable P0 equal 1\n",
    "\n",
    "# ----- Force Field -----\n",
    "pair_style hybrid/overlay tersoff lj/cut/scaling 14\n",
    "pair_coeff * * tersoff  {tersoff_filename} {element}\n",
    "pair_coeff 1 1 lj/cut/scaling {scaling['epsilon']} {scaling['sigma']} {scaling['k1']} {scaling['k2']} {scaling['RcLR']}\n",
    "neighbor 2.0 nsq\n",
    "neigh_modify delay 0 every 1 check yes\n",
    "\"\"\"\n",
    "\n",
    "    # Write input snippet\n",
    "    lammps_input_filename = f\"{element}.in\"\n",
    "    with open(lammps_input_filename, \"w\") as f:\n",
    "        f.write(lammps_input)\n",
    "\n",
    "    print(f\"✅ Generated: {tersoff_filename} and {lammps_input_filename}\")\n",
    "\n",
    "# === Example usage ===\n",
    "generate_lammps_files(\"tersoff_files/Ag_hybop.json\")  # Replace with your JSON filename\n"
   ]
  },
  {
   "cell_type": "code",
   "execution_count": null,
   "id": "1ffcb258-822d-425a-96a2-70a8c55fc667",
   "metadata": {},
   "outputs": [],
   "source": []
  }
 ],
 "metadata": {
  "kernelspec": {
   "display_name": "NERSC Python",
   "language": "python",
   "name": "python3"
  },
  "language_info": {
   "codemirror_mode": {
    "name": "ipython",
    "version": 3
   },
   "file_extension": ".py",
   "mimetype": "text/x-python",
   "name": "python",
   "nbconvert_exporter": "python",
   "pygments_lexer": "ipython3",
   "version": "3.11.7"
  }
 },
 "nbformat": 4,
 "nbformat_minor": 5
}
